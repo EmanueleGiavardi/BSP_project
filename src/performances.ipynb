{
 "cells": [
  {
   "cell_type": "code",
   "execution_count": 1,
   "metadata": {},
   "outputs": [],
   "source": [
    "%load_ext autoreload\n",
    "%autoreload 2"
   ]
  },
  {
   "cell_type": "code",
   "execution_count": 7,
   "metadata": {},
   "outputs": [],
   "source": [
    "import pandas as pd\n",
    "import numpy as np\n",
    "import matplotlib.pyplot as plt\n",
    "import os\n",
    "\n",
    "from modules.StochasticProcess import StochasticProcess\n",
    "from modules.BaselineWanderRemover import BaselineWanderRemover\n",
    "from modules.QRSdetector import QRSdetector\n",
    "from modules.ECGestimator import ECGestimator"
   ]
  },
  {
   "cell_type": "code",
   "execution_count": 8,
   "metadata": {},
   "outputs": [],
   "source": [
    "def extract_stochastic_process(filename, num_realizations):\n",
    "    df = pd.read_csv(filename, skiprows=2, header=None)\n",
    "    realizations, labels = [], []\n",
    "    for i in range (1,num_realizations+1):\n",
    "        AECG = df[i].to_numpy()\n",
    "        AECG_cleaned = np.where(AECG == '-', '0', AECG)\n",
    "        realizations.append(AECG_cleaned.astype(float))\n",
    "        labels.append(\"AECG\"+str(i))\n",
    "\n",
    "    return realizations, labels"
   ]
  },
  {
   "cell_type": "code",
   "execution_count": 12,
   "metadata": {},
   "outputs": [],
   "source": [
    "# PARAMETERS\n",
    "\n",
    "# general\n",
    "num_realizations = 4\n",
    "sr = 1000 \n",
    "colors = ['blue', 'green', 'orange', 'red']\n",
    "\n",
    "# baseline_wander_remover\n",
    "cutoff = 3\n",
    "num_taps = 1000\n",
    "\n",
    "# PLI remover\n",
    "\n",
    "# upsampling\n",
    "upsample_factor = 2\n",
    "new_sr = sr * upsample_factor\n",
    "\n",
    "# MQRS detection\n",
    "maternal_template_duration = 0.10\n",
    "maternal_threshold_factor = 0.5\n",
    "\n",
    "# MECG canceller\n",
    "maternal_P_wave_duration = 0.20\n",
    "maternal_T_wave_duration = 0.40\n",
    "\n",
    "# FQRS detection\n",
    "fetal_duration_template = 0.10\n",
    "fetal_threshold_factor = 0.3\n",
    "\n",
    "# FECG detection\n",
    "fetal_P_wave_duration = 0.20\n",
    "fetal_T_wave_duration = 0.40"
   ]
  },
  {
   "cell_type": "code",
   "execution_count": 13,
   "metadata": {},
   "outputs": [],
   "source": [
    "def sequential_analysis(S1, num_realizations, labels, colors, sr, gt):\n",
    "    # Baseline Wander removal\n",
    "    bwr = BaselineWanderRemover(sr, cutoff, num_taps+1)\n",
    "    S2 = StochasticProcess(num_realizations, [bwr.highpass_fir_filter(r) for r in S1], labels, colors, sr)\n",
    "\n",
    "    # PLI removal\n",
    "\n",
    "    # upsampling\n",
    "    S4 = S2.resample_process(new_sr)\n",
    "\n",
    "    # MQRS detection\n",
    "    MQRS_detector = QRSdetector(S4, maternal_template_duration, maternal_threshold_factor, new_sr)\n",
    "    maternal_enhanced_QRS, _ = MQRS_detector.get_enhanced_QRS()\n",
    "    maternal_qrs_template = MQRS_detector.create_qrs_template(maternal_enhanced_QRS)\n",
    "    maternal_peaks, _ = MQRS_detector.detect_qrs(maternal_enhanced_QRS, maternal_qrs_template)\n",
    "\n",
    "    # MECG estimation and cancellation\n",
    "    MECG_estimator = ECGestimator(S4, maternal_P_wave_duration, maternal_template_duration, maternal_T_wave_duration, new_sr, labels)\n",
    "    real_MECGs, real_MECGs_positions = MECG_estimator.get_real_ECGs(maternal_peaks)\n",
    "    MECG_averages = MECG_estimator.get_ECG_averages(real_MECGs)\n",
    "    mu_portions = MECG_estimator.get_mu_portions(MECG_averages)\n",
    "    M_matrixes = MECG_estimator.get_M_matrixes(mu_portions)\n",
    "    estimated_MECGs = MECG_estimator.get_estimated_ECGs(real_MECGs, M_matrixes, mu_portions)\n",
    "    residual_realizations = []\n",
    "    for i in range(num_realizations): \n",
    "        residual_realizations.append(MECG_estimator.cancel_ECG(S4.get_realization_by_index(i), real_MECGs_positions[labels[i]], real_MECGs[labels[i]], estimated_MECGs[labels[i]]))\n",
    "    S5 = StochasticProcess(num_realizations, residual_realizations, labels, colors, new_sr)\n",
    "\n",
    "    # FQRS detection\n",
    "    gt_fetal_peaks = gt * upsample_factor\n",
    "    FQRS_detector = QRSdetector(S5, fetal_duration_template, fetal_threshold_factor, new_sr)\n",
    "    fetal_enhanced_QRS, _ = FQRS_detector.get_enhanced_QRS()\n",
    "    fetal_QRS_template = FQRS_detector.create_qrs_template(fetal_enhanced_QRS)\n",
    "    fetal_peaks, _ = FQRS_detector.detect_qrs(fetal_enhanced_QRS, fetal_QRS_template)\n",
    "\n",
    "    # FECG estimation\n",
    "    FECG_estimator = ECGestimator(S5, fetal_P_wave_duration, fetal_duration_template, fetal_T_wave_duration, new_sr, labels)\n",
    "    FECG_averages = FECG_estimator.get_ECG_averages(FECG_estimator.get_real_ECGs(fetal_peaks)[0])\n",
    "    gt_FECG_averages = FECG_estimator.get_ECG_averages(FECG_estimator.get_real_ECGs(gt_fetal_peaks)[0])\n",
    "    S5 = StochasticProcess(num_realizations, [FECG_averages[label] for label in FECG_averages], labels, colors, new_sr)\n",
    "\n",
    "    return fetal_peaks, S5"
   ]
  },
  {
   "cell_type": "markdown",
   "metadata": {},
   "source": [
    "# **Misurazione Performance**"
   ]
  },
  {
   "cell_type": "markdown",
   "metadata": {},
   "source": [
    "#### 1) **Valutazione del FHR**\n",
    "come riferimento del fetal heart rate (FHR) abbiamo i picchi di ground truth: se i picchi di groud truth sono, ad esempio, 120, vuol dire che è stato misurato empiricamente che il cuore del feto batteva a 120 bpm. \n",
    "Per misurare la qualità del FHR estratto bisogna applicare il QRS detection method ad un segnale contenente l'ECG fetale ottenuto con un metodo diverso rispetto a quello dell'approccio sequenziale. Dunque:\n",
    "- SP -> BW_Remover -> [PLI_remover] -> **ICA** -> ICx -> QRS_detection -> ICA_peaks\n",
    "- SP -> sequential_approach -> sequential_peaks\n",
    "\n",
    "Quale dei due si avvicina di più a ground truth per ciascuna realizzazione? "
   ]
  },
  {
   "cell_type": "code",
   "execution_count": 16,
   "metadata": {},
   "outputs": [
    {
     "name": "stdout",
     "output_type": "stream",
     "text": [
      "Succesfully estimated FHR for ../data/set-a-text/a01.csv\n",
      "Succesfully estimated FHR for ../data/set-a-text/a02.csv\n",
      "Succesfully estimated FHR for ../data/set-a-text/a03.csv\n",
      "Succesfully estimated FHR for ../data/set-a-text/a04.csv\n",
      "Succesfully estimated FHR for ../data/set-a-text/a05.csv\n",
      "Succesfully estimated FHR for ../data/set-a-text/a06.csv\n",
      "Succesfully estimated FHR for ../data/set-a-text/a07.csv\n",
      "Succesfully estimated FHR for ../data/set-a-text/a08.csv\n",
      "Succesfully estimated FHR for ../data/set-a-text/a09.csv\n",
      "Succesfully estimated FHR for ../data/set-a-text/a10.csv\n",
      "Succesfully estimated FHR for ../data/set-a-text/a11.csv\n",
      "Succesfully estimated FHR for ../data/set-a-text/a12.csv\n",
      "Succesfully estimated FHR for ../data/set-a-text/a13.csv\n",
      "Succesfully estimated FHR for ../data/set-a-text/a14.csv\n",
      "Succesfully estimated FHR for ../data/set-a-text/a15.csv\n",
      "Succesfully estimated FHR for ../data/set-a-text/a16.csv\n",
      "Succesfully estimated FHR for ../data/set-a-text/a17.csv\n",
      "Succesfully estimated FHR for ../data/set-a-text/a18.csv\n",
      "Succesfully estimated FHR for ../data/set-a-text/a19.csv\n",
      "Succesfully estimated FHR for ../data/set-a-text/a20.csv\n",
      "Succesfully estimated FHR for ../data/set-a-text/a21.csv\n",
      "Succesfully estimated FHR for ../data/set-a-text/a22.csv\n",
      "Succesfully estimated FHR for ../data/set-a-text/a23.csv\n",
      "Succesfully estimated FHR for ../data/set-a-text/a24.csv\n",
      "Succesfully estimated FHR for ../data/set-a-text/a25.csv\n"
     ]
    }
   ],
   "source": [
    "data_extension = \".csv\"\n",
    "gt_extension = \".fqrs.txt\"\n",
    "data_path = \"../data/set-a-text\"\n",
    "\n",
    "csv_paths, gt_paths = [], []\n",
    "\n",
    "for file in os.listdir(data_path):\n",
    "    if file.endswith(data_extension): csv_paths.append(os.path.join(data_path, file))\n",
    "    if file.endswith(gt_extension): gt_paths.append(os.path.join(data_path, file))\n",
    "\n",
    "csv_paths = sorted(csv_paths)\n",
    "gt_paths = sorted(gt_paths)\n",
    "\n",
    "FHRs = {}\n",
    "\n",
    "for i in range(len(csv_paths)):\n",
    "    sp_path = csv_paths[i]\n",
    "    gt_path = gt_paths[i]\n",
    "\n",
    "    # fetal peaks (ground truth)\n",
    "    with open(gt_path, 'r') as file: gt = np.array([int(line.strip()) for line in file])\n",
    "    \n",
    "    # realizations\n",
    "    realizations, labels = extract_stochastic_process(sp_path, num_realizations)\n",
    "    S1 = StochasticProcess(num_realizations, realizations, labels, colors, sr)\n",
    "\n",
    "    # sequential analysis\n",
    "    try:\n",
    "        estimated_fetal_peaks, S5 = sequential_analysis(S1, num_realizations, labels, colors, sr, gt)\n",
    "        FHRs[sp_path] = (len(estimated_fetal_peaks), len(gt))\n",
    "        print(f\"Succesfully estimated FHR for {sp_path}\") \n",
    "    except:\n",
    "        print(f\">> Unable to estimate FHR for {sp_path}\")        \n"
   ]
  },
  {
   "cell_type": "code",
   "execution_count": 17,
   "metadata": {},
   "outputs": [
    {
     "name": "stdout",
     "output_type": "stream",
     "text": [
      "../data/set-a-text/a01.csv -> (118, 145)\n",
      "../data/set-a-text/a02.csv -> (14, 160)\n",
      "../data/set-a-text/a03.csv -> (126, 128)\n",
      "../data/set-a-text/a04.csv -> (129, 129)\n",
      "../data/set-a-text/a05.csv -> (127, 129)\n",
      "../data/set-a-text/a06.csv -> (68, 160)\n",
      "../data/set-a-text/a07.csv -> (133, 130)\n",
      "../data/set-a-text/a08.csv -> (75, 128)\n",
      "../data/set-a-text/a09.csv -> (20, 130)\n",
      "../data/set-a-text/a10.csv -> (147, 175)\n",
      "../data/set-a-text/a11.csv -> (29, 140)\n",
      "../data/set-a-text/a12.csv -> (133, 138)\n",
      "../data/set-a-text/a13.csv -> (125, 126)\n",
      "../data/set-a-text/a14.csv -> (120, 123)\n",
      "../data/set-a-text/a15.csv -> (132, 134)\n",
      "../data/set-a-text/a16.csv -> (38, 130)\n",
      "../data/set-a-text/a17.csv -> (125, 132)\n",
      "../data/set-a-text/a18.csv -> (14, 150)\n",
      "../data/set-a-text/a19.csv -> (126, 127)\n",
      "../data/set-a-text/a20.csv -> (103, 131)\n",
      "../data/set-a-text/a21.csv -> (137, 145)\n",
      "../data/set-a-text/a22.csv -> (79, 126)\n",
      "../data/set-a-text/a23.csv -> (124, 126)\n",
      "../data/set-a-text/a24.csv -> (121, 123)\n",
      "../data/set-a-text/a25.csv -> (81, 125)\n"
     ]
    }
   ],
   "source": [
    "for el in FHRs:\n",
    "    print(f\"{el} -> {FHRs[el]}\")"
   ]
  }
 ],
 "metadata": {
  "kernelspec": {
   "display_name": "BSP virtual env",
   "language": "python",
   "name": "bspvenv"
  },
  "language_info": {
   "codemirror_mode": {
    "name": "ipython",
    "version": 3
   },
   "file_extension": ".py",
   "mimetype": "text/x-python",
   "name": "python",
   "nbconvert_exporter": "python",
   "pygments_lexer": "ipython3",
   "version": "3.13.1"
  }
 },
 "nbformat": 4,
 "nbformat_minor": 2
}
